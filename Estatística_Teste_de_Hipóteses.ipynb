{
  "nbformat": 4,
  "nbformat_minor": 0,
  "metadata": {
    "colab": {
      "provenance": []
    },
    "kernelspec": {
      "name": "python3",
      "display_name": "Python 3"
    },
    "language_info": {
      "name": "python"
    }
  },
  "cells": [
    {
      "cell_type": "code",
      "source": [
        "import pandas as pd\n",
        "import numpy as np\n",
        "import seaborn as sns\n",
        "import matplotlib.pyplot as plt\n",
        "import math\n",
        "from scipy.stats import ttest_ind"
      ],
      "metadata": {
        "id": "dHZs9nfZJPDh"
      },
      "execution_count": null,
      "outputs": []
    },
    {
      "cell_type": "code",
      "source": [
        "# Nome do arquivo CSV\n",
        "nome_arquivo = \"/content/drive/MyDrive/Colab Notebooks/Cd_experimento_teste_ab.csv\"\n",
        "\n",
        "# Importa o arquivo JSON como DataFrame\n",
        "df = pd.read_csv(nome_arquivo)"
      ],
      "metadata": {
        "id": "KX5xeyR1JGkk"
      },
      "execution_count": null,
      "outputs": []
    },
    {
      "cell_type": "markdown",
      "source": [
        "# Questão 1:\n",
        "\n",
        "Considerando a base de dados experimento_test_ab.csv responda as\n",
        "questões abaixo:\n",
        "\n",
        "1. Qual dos cenários tem a maior taxa de conversão?"
      ],
      "metadata": {
        "id": "taPZIwXkLVvF"
      }
    },
    {
      "cell_type": "code",
      "execution_count": null,
      "metadata": {
        "colab": {
          "base_uri": "https://localhost:8080/"
        },
        "id": "5KeBr9snHbiB",
        "outputId": "f2354da4-31ec-4bd9-ca39-e5eef1d899ac"
      },
      "outputs": [
        {
          "output_type": "stream",
          "name": "stdout",
          "text": [
            "Versão_Página\n",
            "A    0.000696\n",
            "B    0.000830\n",
            "dtype: float64\n",
            "O cenário com a maior taxa de conversão é: B\n",
            "A maior taxa de conversão é: 0.0008295946268815207\n"
          ]
        }
      ],
      "source": [
        "import numpy as np\n",
        "from scipy.stats import norm\n",
        "\n",
        "# Carregar os dados do arquivo CSV\n",
        "dados = pd.read_csv(nome_arquivo)\n",
        "\n",
        "# Calcular o número total de visualizações e conversões para cada versão da página\n",
        "total_visualizacoes = dados.groupby('Versão_Página')['Visualizações'].sum()\n",
        "total_conversoes = dados.groupby('Versão_Página')['Conversões'].sum()\n",
        "\n",
        "# Calcular a taxa de conversão para cada versão da página\n",
        "taxa_conversao = total_conversoes / total_visualizacoes\n",
        "\n",
        "print (taxa_conversao)\n",
        "\n",
        "# Encontrar o cenário com a maior taxa de conversão\n",
        "cenario_maior_taxa = taxa_conversao.idxmax()\n",
        "maior_taxa = taxa_conversao.max()\n",
        "\n",
        "print(\"O cenário com a maior taxa de conversão é:\", cenario_maior_taxa)\n",
        "print(\"A maior taxa de conversão é:\", maior_taxa)"
      ]
    },
    {
      "cell_type": "markdown",
      "source": [
        "2. Calcule qual o tamanho da amostra necessária para o desenvolvimento de um teste A/B, seguindo os seguintes critérios:\n",
        "\n",
        "2.1. O cenário A, da base, como o inicial, que funciona hoje\n",
        "\n",
        "2.2. Considere 95% de confiança de que o efeito na conversão não foi aleatório com um nível de significância de 5% (alpha = 0,05)\n",
        "\n",
        "2.3. Também considere 80% de certeza conseguir capturar o efeito da nova abordagem\n",
        "\n",
        "2.4. O aumento para 10% de conversão"
      ],
      "metadata": {
        "id": "jbG7aK-EIrp3"
      }
    },
    {
      "cell_type": "code",
      "source": [
        "import numpy as np\n",
        "from scipy.stats import norm\n",
        "\n",
        "# Definir os parâmetros\n",
        "alpha = 0.05\n",
        "beta = 0.2  # 1 - poder do teste\n",
        "p1 = taxa_conversao['A']  # Taxa de conversão atual do cenário A\n",
        "p2 = 0.1  # Aumento para 10% de conversão no cenário B\n",
        "\n",
        "# Calcular os valores Z correspondentes\n",
        "Z_alpha = norm.ppf(1 - alpha/2)\n",
        "Z_beta = norm.ppf(1 - beta)\n",
        "\n",
        "# Calcular o tamanho da amostra\n",
        "n = (2 * (Z_alpha + Z_beta)**2 * (p1*(1-p1) + p2*(1-p2))) / ((p1 - p2)**2)\n",
        "\n",
        "print(\"O tamanho da amostra necessário é:\", round(n))\n"
      ],
      "metadata": {
        "colab": {
          "base_uri": "https://localhost:8080/"
        },
        "id": "uAc_OcpGKVIs",
        "outputId": "9c447a74-7ad7-4f5d-b14a-d089b75fd7d0"
      },
      "execution_count": null,
      "outputs": [
        {
          "output_type": "stream",
          "name": "stdout",
          "text": [
            "O tamanho da amostra necessário é: 144\n"
          ]
        }
      ]
    },
    {
      "cell_type": "code",
      "source": [],
      "metadata": {
        "id": "0q9yFNh4LnyD"
      },
      "execution_count": null,
      "outputs": []
    },
    {
      "cell_type": "markdown",
      "source": [
        "# Questão 2:\n",
        "\n",
        "Verifique a base pacientes.csv, os dados são fictícios. A sintetiza uma base de dados de um hospital que trata de pacientes com problemas cardíacos. Considere a base como a população, portanto as estatísticas da população são conhecidas. Responda as perguntas abaixo:"
      ],
      "metadata": {
        "id": "BCyMJ-jaIy33"
      }
    },
    {
      "cell_type": "code",
      "source": [
        "import pandas as pd\n",
        "import numpy as np"
      ],
      "metadata": {
        "id": "wFBaIngzfimb"
      },
      "execution_count": 1,
      "outputs": []
    },
    {
      "cell_type": "code",
      "source": [
        "# Nome do arquivo CSV\n",
        "nome_arquivo = \"/content/drive/MyDrive/Colab Notebooks/pacientes.csv\"\n",
        "\n",
        "# Importa o arquivo CSV como DataFrame\n",
        "dados_pacientes = pd.read_csv(nome_arquivo)\n"
      ],
      "metadata": {
        "id": "DMZzhkCYJYW3"
      },
      "execution_count": 2,
      "outputs": []
    },
    {
      "cell_type": "code",
      "source": [
        "\n",
        "dados_pacientes.info()"
      ],
      "metadata": {
        "colab": {
          "base_uri": "https://localhost:8080/"
        },
        "id": "wK-inwx3hdV2",
        "outputId": "403ec831-9d5d-439b-ffae-bfd3c02fbd2e"
      },
      "execution_count": 3,
      "outputs": [
        {
          "output_type": "stream",
          "name": "stdout",
          "text": [
            "<class 'pandas.core.frame.DataFrame'>\n",
            "RangeIndex: 1000 entries, 0 to 999\n",
            "Data columns (total 9 columns):\n",
            " #   Column             Non-Null Count  Dtype  \n",
            "---  ------             --------------  -----  \n",
            " 0   Unnamed: 0         1000 non-null   int64  \n",
            " 1   Pressao_Arterial   1000 non-null   float64\n",
            " 2   Idade              1000 non-null   int64  \n",
            " 3   Genero             1000 non-null   int64  \n",
            " 4   Etnia              1000 non-null   int64  \n",
            " 5   Estado_Saude       1000 non-null   int64  \n",
            " 6   Nome_Genero        1000 non-null   object \n",
            " 7   Nome_Etnia         1000 non-null   object \n",
            " 8   Nome_Estado_Saude  1000 non-null   object \n",
            "dtypes: float64(1), int64(5), object(3)\n",
            "memory usage: 70.4+ KB\n"
          ]
        }
      ]
    },
    {
      "cell_type": "code",
      "source": [
        "dados_pacientes.head()"
      ],
      "metadata": {
        "colab": {
          "base_uri": "https://localhost:8080/",
          "height": 206
        },
        "id": "IiPsBCgthTdj",
        "outputId": "ddaeb1ef-a4a3-4e01-8c4c-402bc3eae6ba"
      },
      "execution_count": 4,
      "outputs": [
        {
          "output_type": "execute_result",
          "data": {
            "text/plain": [
              "   Unnamed: 0  Pressao_Arterial  Idade  Genero  Etnia  Estado_Saude  \\\n",
              "0           0        142.755809     31       1      1             1   \n",
              "1           1        161.878468     35       1      1             0   \n",
              "2           2        161.508259     39       0      3             1   \n",
              "3           3        144.979408     43       1      3             1   \n",
              "4           4        162.502954     55       0      2             1   \n",
              "\n",
              "  Nome_Genero      Nome_Etnia                  Nome_Estado_Saude  \n",
              "0    Feminino  Afro-americano  Com condições de saúde adicionais  \n",
              "1    Feminino  Afro-americano                           Saudável  \n",
              "2   Masculino        Asiático  Com condições de saúde adicionais  \n",
              "3    Feminino        Asiático  Com condições de saúde adicionais  \n",
              "4   Masculino       Hispânico  Com condições de saúde adicionais  "
            ],
            "text/html": [
              "\n",
              "  <div id=\"df-543e00b8-f330-4ac6-afb1-c91040190b72\" class=\"colab-df-container\">\n",
              "    <div>\n",
              "<style scoped>\n",
              "    .dataframe tbody tr th:only-of-type {\n",
              "        vertical-align: middle;\n",
              "    }\n",
              "\n",
              "    .dataframe tbody tr th {\n",
              "        vertical-align: top;\n",
              "    }\n",
              "\n",
              "    .dataframe thead th {\n",
              "        text-align: right;\n",
              "    }\n",
              "</style>\n",
              "<table border=\"1\" class=\"dataframe\">\n",
              "  <thead>\n",
              "    <tr style=\"text-align: right;\">\n",
              "      <th></th>\n",
              "      <th>Unnamed: 0</th>\n",
              "      <th>Pressao_Arterial</th>\n",
              "      <th>Idade</th>\n",
              "      <th>Genero</th>\n",
              "      <th>Etnia</th>\n",
              "      <th>Estado_Saude</th>\n",
              "      <th>Nome_Genero</th>\n",
              "      <th>Nome_Etnia</th>\n",
              "      <th>Nome_Estado_Saude</th>\n",
              "    </tr>\n",
              "  </thead>\n",
              "  <tbody>\n",
              "    <tr>\n",
              "      <th>0</th>\n",
              "      <td>0</td>\n",
              "      <td>142.755809</td>\n",
              "      <td>31</td>\n",
              "      <td>1</td>\n",
              "      <td>1</td>\n",
              "      <td>1</td>\n",
              "      <td>Feminino</td>\n",
              "      <td>Afro-americano</td>\n",
              "      <td>Com condições de saúde adicionais</td>\n",
              "    </tr>\n",
              "    <tr>\n",
              "      <th>1</th>\n",
              "      <td>1</td>\n",
              "      <td>161.878468</td>\n",
              "      <td>35</td>\n",
              "      <td>1</td>\n",
              "      <td>1</td>\n",
              "      <td>0</td>\n",
              "      <td>Feminino</td>\n",
              "      <td>Afro-americano</td>\n",
              "      <td>Saudável</td>\n",
              "    </tr>\n",
              "    <tr>\n",
              "      <th>2</th>\n",
              "      <td>2</td>\n",
              "      <td>161.508259</td>\n",
              "      <td>39</td>\n",
              "      <td>0</td>\n",
              "      <td>3</td>\n",
              "      <td>1</td>\n",
              "      <td>Masculino</td>\n",
              "      <td>Asiático</td>\n",
              "      <td>Com condições de saúde adicionais</td>\n",
              "    </tr>\n",
              "    <tr>\n",
              "      <th>3</th>\n",
              "      <td>3</td>\n",
              "      <td>144.979408</td>\n",
              "      <td>43</td>\n",
              "      <td>1</td>\n",
              "      <td>3</td>\n",
              "      <td>1</td>\n",
              "      <td>Feminino</td>\n",
              "      <td>Asiático</td>\n",
              "      <td>Com condições de saúde adicionais</td>\n",
              "    </tr>\n",
              "    <tr>\n",
              "      <th>4</th>\n",
              "      <td>4</td>\n",
              "      <td>162.502954</td>\n",
              "      <td>55</td>\n",
              "      <td>0</td>\n",
              "      <td>2</td>\n",
              "      <td>1</td>\n",
              "      <td>Masculino</td>\n",
              "      <td>Hispânico</td>\n",
              "      <td>Com condições de saúde adicionais</td>\n",
              "    </tr>\n",
              "  </tbody>\n",
              "</table>\n",
              "</div>\n",
              "    <div class=\"colab-df-buttons\">\n",
              "\n",
              "  <div class=\"colab-df-container\">\n",
              "    <button class=\"colab-df-convert\" onclick=\"convertToInteractive('df-543e00b8-f330-4ac6-afb1-c91040190b72')\"\n",
              "            title=\"Convert this dataframe to an interactive table.\"\n",
              "            style=\"display:none;\">\n",
              "\n",
              "  <svg xmlns=\"http://www.w3.org/2000/svg\" height=\"24px\" viewBox=\"0 -960 960 960\">\n",
              "    <path d=\"M120-120v-720h720v720H120Zm60-500h600v-160H180v160Zm220 220h160v-160H400v160Zm0 220h160v-160H400v160ZM180-400h160v-160H180v160Zm440 0h160v-160H620v160ZM180-180h160v-160H180v160Zm440 0h160v-160H620v160Z\"/>\n",
              "  </svg>\n",
              "    </button>\n",
              "\n",
              "  <style>\n",
              "    .colab-df-container {\n",
              "      display:flex;\n",
              "      gap: 12px;\n",
              "    }\n",
              "\n",
              "    .colab-df-convert {\n",
              "      background-color: #E8F0FE;\n",
              "      border: none;\n",
              "      border-radius: 50%;\n",
              "      cursor: pointer;\n",
              "      display: none;\n",
              "      fill: #1967D2;\n",
              "      height: 32px;\n",
              "      padding: 0 0 0 0;\n",
              "      width: 32px;\n",
              "    }\n",
              "\n",
              "    .colab-df-convert:hover {\n",
              "      background-color: #E2EBFA;\n",
              "      box-shadow: 0px 1px 2px rgba(60, 64, 67, 0.3), 0px 1px 3px 1px rgba(60, 64, 67, 0.15);\n",
              "      fill: #174EA6;\n",
              "    }\n",
              "\n",
              "    .colab-df-buttons div {\n",
              "      margin-bottom: 4px;\n",
              "    }\n",
              "\n",
              "    [theme=dark] .colab-df-convert {\n",
              "      background-color: #3B4455;\n",
              "      fill: #D2E3FC;\n",
              "    }\n",
              "\n",
              "    [theme=dark] .colab-df-convert:hover {\n",
              "      background-color: #434B5C;\n",
              "      box-shadow: 0px 1px 3px 1px rgba(0, 0, 0, 0.15);\n",
              "      filter: drop-shadow(0px 1px 2px rgba(0, 0, 0, 0.3));\n",
              "      fill: #FFFFFF;\n",
              "    }\n",
              "  </style>\n",
              "\n",
              "    <script>\n",
              "      const buttonEl =\n",
              "        document.querySelector('#df-543e00b8-f330-4ac6-afb1-c91040190b72 button.colab-df-convert');\n",
              "      buttonEl.style.display =\n",
              "        google.colab.kernel.accessAllowed ? 'block' : 'none';\n",
              "\n",
              "      async function convertToInteractive(key) {\n",
              "        const element = document.querySelector('#df-543e00b8-f330-4ac6-afb1-c91040190b72');\n",
              "        const dataTable =\n",
              "          await google.colab.kernel.invokeFunction('convertToInteractive',\n",
              "                                                    [key], {});\n",
              "        if (!dataTable) return;\n",
              "\n",
              "        const docLinkHtml = 'Like what you see? Visit the ' +\n",
              "          '<a target=\"_blank\" href=https://colab.research.google.com/notebooks/data_table.ipynb>data table notebook</a>'\n",
              "          + ' to learn more about interactive tables.';\n",
              "        element.innerHTML = '';\n",
              "        dataTable['output_type'] = 'display_data';\n",
              "        await google.colab.output.renderOutput(dataTable, element);\n",
              "        const docLink = document.createElement('div');\n",
              "        docLink.innerHTML = docLinkHtml;\n",
              "        element.appendChild(docLink);\n",
              "      }\n",
              "    </script>\n",
              "  </div>\n",
              "\n",
              "\n",
              "<div id=\"df-9040f027-5f89-4eb2-9ad5-9922ced21adc\">\n",
              "  <button class=\"colab-df-quickchart\" onclick=\"quickchart('df-9040f027-5f89-4eb2-9ad5-9922ced21adc')\"\n",
              "            title=\"Suggest charts\"\n",
              "            style=\"display:none;\">\n",
              "\n",
              "<svg xmlns=\"http://www.w3.org/2000/svg\" height=\"24px\"viewBox=\"0 0 24 24\"\n",
              "     width=\"24px\">\n",
              "    <g>\n",
              "        <path d=\"M19 3H5c-1.1 0-2 .9-2 2v14c0 1.1.9 2 2 2h14c1.1 0 2-.9 2-2V5c0-1.1-.9-2-2-2zM9 17H7v-7h2v7zm4 0h-2V7h2v10zm4 0h-2v-4h2v4z\"/>\n",
              "    </g>\n",
              "</svg>\n",
              "  </button>\n",
              "\n",
              "<style>\n",
              "  .colab-df-quickchart {\n",
              "      --bg-color: #E8F0FE;\n",
              "      --fill-color: #1967D2;\n",
              "      --hover-bg-color: #E2EBFA;\n",
              "      --hover-fill-color: #174EA6;\n",
              "      --disabled-fill-color: #AAA;\n",
              "      --disabled-bg-color: #DDD;\n",
              "  }\n",
              "\n",
              "  [theme=dark] .colab-df-quickchart {\n",
              "      --bg-color: #3B4455;\n",
              "      --fill-color: #D2E3FC;\n",
              "      --hover-bg-color: #434B5C;\n",
              "      --hover-fill-color: #FFFFFF;\n",
              "      --disabled-bg-color: #3B4455;\n",
              "      --disabled-fill-color: #666;\n",
              "  }\n",
              "\n",
              "  .colab-df-quickchart {\n",
              "    background-color: var(--bg-color);\n",
              "    border: none;\n",
              "    border-radius: 50%;\n",
              "    cursor: pointer;\n",
              "    display: none;\n",
              "    fill: var(--fill-color);\n",
              "    height: 32px;\n",
              "    padding: 0;\n",
              "    width: 32px;\n",
              "  }\n",
              "\n",
              "  .colab-df-quickchart:hover {\n",
              "    background-color: var(--hover-bg-color);\n",
              "    box-shadow: 0 1px 2px rgba(60, 64, 67, 0.3), 0 1px 3px 1px rgba(60, 64, 67, 0.15);\n",
              "    fill: var(--button-hover-fill-color);\n",
              "  }\n",
              "\n",
              "  .colab-df-quickchart-complete:disabled,\n",
              "  .colab-df-quickchart-complete:disabled:hover {\n",
              "    background-color: var(--disabled-bg-color);\n",
              "    fill: var(--disabled-fill-color);\n",
              "    box-shadow: none;\n",
              "  }\n",
              "\n",
              "  .colab-df-spinner {\n",
              "    border: 2px solid var(--fill-color);\n",
              "    border-color: transparent;\n",
              "    border-bottom-color: var(--fill-color);\n",
              "    animation:\n",
              "      spin 1s steps(1) infinite;\n",
              "  }\n",
              "\n",
              "  @keyframes spin {\n",
              "    0% {\n",
              "      border-color: transparent;\n",
              "      border-bottom-color: var(--fill-color);\n",
              "      border-left-color: var(--fill-color);\n",
              "    }\n",
              "    20% {\n",
              "      border-color: transparent;\n",
              "      border-left-color: var(--fill-color);\n",
              "      border-top-color: var(--fill-color);\n",
              "    }\n",
              "    30% {\n",
              "      border-color: transparent;\n",
              "      border-left-color: var(--fill-color);\n",
              "      border-top-color: var(--fill-color);\n",
              "      border-right-color: var(--fill-color);\n",
              "    }\n",
              "    40% {\n",
              "      border-color: transparent;\n",
              "      border-right-color: var(--fill-color);\n",
              "      border-top-color: var(--fill-color);\n",
              "    }\n",
              "    60% {\n",
              "      border-color: transparent;\n",
              "      border-right-color: var(--fill-color);\n",
              "    }\n",
              "    80% {\n",
              "      border-color: transparent;\n",
              "      border-right-color: var(--fill-color);\n",
              "      border-bottom-color: var(--fill-color);\n",
              "    }\n",
              "    90% {\n",
              "      border-color: transparent;\n",
              "      border-bottom-color: var(--fill-color);\n",
              "    }\n",
              "  }\n",
              "</style>\n",
              "\n",
              "  <script>\n",
              "    async function quickchart(key) {\n",
              "      const quickchartButtonEl =\n",
              "        document.querySelector('#' + key + ' button');\n",
              "      quickchartButtonEl.disabled = true;  // To prevent multiple clicks.\n",
              "      quickchartButtonEl.classList.add('colab-df-spinner');\n",
              "      try {\n",
              "        const charts = await google.colab.kernel.invokeFunction(\n",
              "            'suggestCharts', [key], {});\n",
              "      } catch (error) {\n",
              "        console.error('Error during call to suggestCharts:', error);\n",
              "      }\n",
              "      quickchartButtonEl.classList.remove('colab-df-spinner');\n",
              "      quickchartButtonEl.classList.add('colab-df-quickchart-complete');\n",
              "    }\n",
              "    (() => {\n",
              "      let quickchartButtonEl =\n",
              "        document.querySelector('#df-9040f027-5f89-4eb2-9ad5-9922ced21adc button');\n",
              "      quickchartButtonEl.style.display =\n",
              "        google.colab.kernel.accessAllowed ? 'block' : 'none';\n",
              "    })();\n",
              "  </script>\n",
              "</div>\n",
              "\n",
              "    </div>\n",
              "  </div>\n"
            ],
            "application/vnd.google.colaboratory.intrinsic+json": {
              "type": "dataframe",
              "variable_name": "dados_pacientes",
              "summary": "{\n  \"name\": \"dados_pacientes\",\n  \"rows\": 1000,\n  \"fields\": [\n    {\n      \"column\": \"Unnamed: 0\",\n      \"properties\": {\n        \"dtype\": \"number\",\n        \"std\": 288,\n        \"min\": 0,\n        \"max\": 999,\n        \"num_unique_values\": 1000,\n        \"samples\": [\n          521,\n          737,\n          740\n        ],\n        \"semantic_type\": \"\",\n        \"description\": \"\"\n      }\n    },\n    {\n      \"column\": \"Pressao_Arterial\",\n      \"properties\": {\n        \"dtype\": \"number\",\n        \"std\": 9.943612581359622,\n        \"min\": 112.92982068924913,\n        \"max\": 181.80313088710068,\n        \"num_unique_values\": 1000,\n        \"samples\": [\n          152.04119412297098,\n          147.54391492523183,\n          168.8184130751253\n        ],\n        \"semantic_type\": \"\",\n        \"description\": \"\"\n      }\n    },\n    {\n      \"column\": \"Idade\",\n      \"properties\": {\n        \"dtype\": \"number\",\n        \"std\": 11,\n        \"min\": 30,\n        \"max\": 70,\n        \"num_unique_values\": 41,\n        \"samples\": [\n          30,\n          65,\n          57\n        ],\n        \"semantic_type\": \"\",\n        \"description\": \"\"\n      }\n    },\n    {\n      \"column\": \"Genero\",\n      \"properties\": {\n        \"dtype\": \"number\",\n        \"std\": 0,\n        \"min\": 0,\n        \"max\": 1,\n        \"num_unique_values\": 2,\n        \"samples\": [\n          0,\n          1\n        ],\n        \"semantic_type\": \"\",\n        \"description\": \"\"\n      }\n    },\n    {\n      \"column\": \"Etnia\",\n      \"properties\": {\n        \"dtype\": \"number\",\n        \"std\": 1,\n        \"min\": 0,\n        \"max\": 3,\n        \"num_unique_values\": 4,\n        \"samples\": [\n          3,\n          0\n        ],\n        \"semantic_type\": \"\",\n        \"description\": \"\"\n      }\n    },\n    {\n      \"column\": \"Estado_Saude\",\n      \"properties\": {\n        \"dtype\": \"number\",\n        \"std\": 0,\n        \"min\": 0,\n        \"max\": 1,\n        \"num_unique_values\": 2,\n        \"samples\": [\n          0,\n          1\n        ],\n        \"semantic_type\": \"\",\n        \"description\": \"\"\n      }\n    },\n    {\n      \"column\": \"Nome_Genero\",\n      \"properties\": {\n        \"dtype\": \"category\",\n        \"num_unique_values\": 2,\n        \"samples\": [\n          \"Masculino\",\n          \"Feminino\"\n        ],\n        \"semantic_type\": \"\",\n        \"description\": \"\"\n      }\n    },\n    {\n      \"column\": \"Nome_Etnia\",\n      \"properties\": {\n        \"dtype\": \"category\",\n        \"num_unique_values\": 4,\n        \"samples\": [\n          \"Asi\\u00e1tico\",\n          \"Caucasiano\"\n        ],\n        \"semantic_type\": \"\",\n        \"description\": \"\"\n      }\n    },\n    {\n      \"column\": \"Nome_Estado_Saude\",\n      \"properties\": {\n        \"dtype\": \"category\",\n        \"num_unique_values\": 2,\n        \"samples\": [\n          \"Saud\\u00e1vel\",\n          \"Com condi\\u00e7\\u00f5es de sa\\u00fade adicionais\"\n        ],\n        \"semantic_type\": \"\",\n        \"description\": \"\"\n      }\n    }\n  ]\n}"
            }
          },
          "metadata": {},
          "execution_count": 4
        }
      ]
    },
    {
      "cell_type": "code",
      "source": [
        "# Calcular o resumo estatístico para variáveis numéricas\n",
        "summary_stats = dados_pacientes.describe()\n",
        "\n",
        "# Exibir o resumo estatístico\n",
        "print(summary_stats)\n",
        "\n"
      ],
      "metadata": {
        "colab": {
          "base_uri": "https://localhost:8080/"
        },
        "id": "baU5GbzWezFh",
        "outputId": "54e489bb-c2d3-45d4-f489-e11e4b85a841"
      },
      "execution_count": 5,
      "outputs": [
        {
          "output_type": "stream",
          "name": "stdout",
          "text": [
            "        Unnamed: 0  Pressao_Arterial        Idade       Genero        Etnia  \\\n",
            "count  1000.000000       1000.000000  1000.000000  1000.000000  1000.000000   \n",
            "mean    499.500000        150.375623    49.757000     0.503000     1.526000   \n",
            "std     288.819436          9.943613    11.682998     0.500241     1.104783   \n",
            "min       0.000000        112.929821    30.000000     0.000000     0.000000   \n",
            "25%     249.750000        144.240948    40.000000     0.000000     1.000000   \n",
            "50%     499.500000        150.455624    49.000000     1.000000     2.000000   \n",
            "75%     749.250000        156.792113    60.000000     1.000000     3.000000   \n",
            "max     999.000000        181.803131    70.000000     1.000000     3.000000   \n",
            "\n",
            "       Estado_Saude  \n",
            "count    1000.00000  \n",
            "mean        0.51000  \n",
            "std         0.50015  \n",
            "min         0.00000  \n",
            "25%         0.00000  \n",
            "50%         1.00000  \n",
            "75%         1.00000  \n",
            "max         1.00000  \n"
          ]
        }
      ]
    },
    {
      "cell_type": "code",
      "source": [
        "dados_pacientes.count()"
      ],
      "metadata": {
        "colab": {
          "base_uri": "https://localhost:8080/"
        },
        "id": "YPcfVDprSGWA",
        "outputId": "03fba6f2-6a9f-43c4-a541-6484b158749b"
      },
      "execution_count": 6,
      "outputs": [
        {
          "output_type": "execute_result",
          "data": {
            "text/plain": [
              "Unnamed: 0           1000\n",
              "Pressao_Arterial     1000\n",
              "Idade                1000\n",
              "Genero               1000\n",
              "Etnia                1000\n",
              "Estado_Saude         1000\n",
              "Nome_Genero          1000\n",
              "Nome_Etnia           1000\n",
              "Nome_Estado_Saude    1000\n",
              "dtype: int64"
            ]
          },
          "metadata": {},
          "execution_count": 6
        }
      ]
    },
    {
      "cell_type": "markdown",
      "source": [
        "# Distribuição das variáveis categóricas sexo"
      ],
      "metadata": {
        "id": "E94A76xRgKDi"
      }
    },
    {
      "cell_type": "code",
      "source": [
        "import seaborn as sns\n",
        "import matplotlib.pyplot as plt\n",
        "\n",
        "# Definir o tamanho do gráfico\n",
        "plt.figure(figsize=(8, 6))\n",
        "\n",
        "# Mapear os códigos numéricos para os nomes correspondentes\n",
        "genero_map = {0: 'Masculino', 1: 'Feminino'}\n",
        "dados_pacientes['Nome_Genero'] = dados_pacientes['Genero'].map(genero_map)\n",
        "\n",
        "# Gráfico de barras para a distribuição de sexo\n",
        "sns.countplot(x='Nome_Genero', data=dados_pacientes)\n",
        "plt.title('Distribuição de Sexo')\n",
        "plt.xlabel('Sexo')\n",
        "plt.ylabel('Contagem')\n",
        "\n",
        "# Mostrar o gráfico\n",
        "plt.show()\n",
        "\n"
      ],
      "metadata": {
        "colab": {
          "base_uri": "https://localhost:8080/",
          "height": 564
        },
        "id": "_lErDk0GiDGH",
        "outputId": "5f6625d5-c257-4021-bb8a-bcc6d04f188f"
      },
      "execution_count": 7,
      "outputs": [
        {
          "output_type": "display_data",
          "data": {
            "text/plain": [
              "<Figure size 800x600 with 1 Axes>"
            ],
            "image/png": "[encoded data removed]"
          },
          "metadata": {}
        }
      ]
    },
    {
      "cell_type": "code",
      "source": [
        "print(dados_pacientes['Nome_Genero'].unique())\n"
      ],
      "metadata": {
        "colab": {
          "base_uri": "https://localhost:8080/"
        },
        "id": "XxzXD9qpg-FG",
        "outputId": "0a429b69-61a9-489a-90ec-35c1f43f6c9e"
      },
      "execution_count": 22,
      "outputs": [
        {
          "output_type": "stream",
          "name": "stdout",
          "text": [
            "['Feminino' 'Masculino']\n"
          ]
        }
      ]
    },
    {
      "cell_type": "markdown",
      "source": [
        "# Correlações - variáveis numéricas\n",
        "\n",
        "Vamos calcular o coeficiente de correlação de Pearson por padrão, que mede a relação linear entre duas variáveis contínuas para entender se existe alguma relação entre elas. <n>\n",
        "\n",
        "Valores próximos a 1 indicam uma correlação positiva forte, valores próximos a -1 indicam uma correlação negativa forte, e valores próximos a 0 indicam pouca ou nenhuma correlação."
      ],
      "metadata": {
        "id": "5y5xscEOiaWW"
      }
    },
    {
      "cell_type": "code",
      "source": [
        "# Selecionar apenas as colunas numéricas do DataFrame\n",
        "dados_numericos = dados_pacientes.select_dtypes(include=['int64', 'float64'])\n",
        "\n",
        "# Calcular as correlações entre as variáveis numéricas\n",
        "correlacoes = dados_numericos.corr()\n",
        "\n",
        "# Exibir a matriz de correlações\n",
        "print(correlacoes)\n"
      ],
      "metadata": {
        "colab": {
          "base_uri": "https://localhost:8080/"
        },
        "id": "5-8Q9QMqicYe",
        "outputId": "d5c2f5ba-88ae-44ff-a339-6a0819a91d92"
      },
      "execution_count": 8,
      "outputs": [
        {
          "output_type": "stream",
          "name": "stdout",
          "text": [
            "                  Unnamed: 0  Pressao_Arterial     Idade    Genero     Etnia  \\\n",
            "Unnamed: 0          1.000000          0.031554 -0.007538 -0.003627 -0.001622   \n",
            "Pressao_Arterial    0.031554          1.000000 -0.021385  0.040632  0.007305   \n",
            "Idade              -0.007538         -0.021385  1.000000  0.049710  0.019219   \n",
            "Genero             -0.003627          0.040632  0.049710  1.000000 -0.026404   \n",
            "Etnia              -0.001622          0.007305  0.019219 -0.026404  1.000000   \n",
            "Estado_Saude       -0.013187         -0.026399  0.006498  0.001880 -0.022210   \n",
            "\n",
            "                  Estado_Saude  \n",
            "Unnamed: 0           -0.013187  \n",
            "Pressao_Arterial     -0.026399  \n",
            "Idade                 0.006498  \n",
            "Genero                0.001880  \n",
            "Etnia                -0.022210  \n",
            "Estado_Saude          1.000000  \n"
          ]
        }
      ]
    },
    {
      "cell_type": "code",
      "source": [
        "# Plotar um mapa de calor das correlações\n",
        "sns.heatmap(correlacoes, annot=True, cmap='coolwarm', fmt=\".2f\")\n",
        "plt.title('Matriz de Correlações')\n",
        "plt.show()\n"
      ],
      "metadata": {
        "colab": {
          "base_uri": "https://localhost:8080/",
          "height": 550
        },
        "id": "GnqcGENYls09",
        "outputId": "c2871961-11a8-4851-c430-186b28c73f7e"
      },
      "execution_count": 9,
      "outputs": [
        {
          "output_type": "display_data",
          "data": {
            "text/plain": [
              "<Figure size 640x480 with 2 Axes>"
            ],
            "image/png": "[encoded data removed]"
          },
          "metadata": {}
        }
      ]
    },
    {
      "cell_type": "markdown",
      "source": [
        "Este é um mapa de calor das correlações, onde cores mais quentes indicam correlações positivas mais fortes, cores mais frias indicam correlações negativas mais fortes, e cores neutras indicam correlações mais fracas."
      ],
      "metadata": {
        "id": "hTmcjATvl45O"
      }
    },
    {
      "cell_type": "markdown",
      "source": [
        "# Correlações entre variáveis categóricas nominais\n",
        "\n",
        "Eu vou usar uma medida de associação como o teste do qui-quadrado (chi-square test) usado para avaliar a independência entre duas variáveis categóricas.\n",
        "\n",
        "Por exemplo, \"Gênero\" e \"Estado de Saúde\".\n",
        "\n",
        "Explicação: O valor de Qui-Quadrado indica a força da associação entre as duas variáveis. Um valor mais alto indica uma associação mais forte. O valor de p (p-valor) indica a significância estatística da associação. Se o valor de p for menor que um certo limite (geralmente 0.05), então a associação é considerada estatisticamente significativa."
      ],
      "metadata": {
        "id": "24sfHJQfjZXn"
      }
    },
    {
      "cell_type": "code",
      "source": [
        "from scipy.stats import chi2_contingency\n",
        "\n",
        "# Tabela de contingência entre as variáveis 'Genero' e 'Estado_Saude'\n",
        "tabela_contingencia = pd.crosstab(dados_pacientes['Genero'], dados_pacientes['Estado_Saude'])\n",
        "\n",
        "# Calcular o teste do qui-quadrado\n",
        "chi2, p_valor, graus_liberdade, esperados = chi2_contingency(tabela_contingencia)\n",
        "\n",
        "print(\"Valor de Qui-Quadrado:\", chi2)\n",
        "print(\"Valor de p:\", p_valor)\n"
      ],
      "metadata": {
        "colab": {
          "base_uri": "https://localhost:8080/"
        },
        "id": "DutZpVoEja1M",
        "outputId": "388fb7ba-5765-45ee-f08f-c2e44bdac27a"
      },
      "execution_count": 10,
      "outputs": [
        {
          "output_type": "stream",
          "name": "stdout",
          "text": [
            "Valor de Qui-Quadrado: 0.0\n",
            "Valor de p: 1.0\n"
          ]
        }
      ]
    },
    {
      "cell_type": "markdown",
      "source": [
        "Resultado da análise\n",
        "\n",
        "Valor de Qui-Quadrado: 0.0 </n>\n",
        "Valor de p: 1.0 </n>\n",
        "\n",
        "Valor de Qui-Quadrado de 0.0 geralmente indica que não há associação entre as duas variáveis categóricas e as duas variáveis são independentes uma da outra.\n",
        "\n",
        "Quando o valor de p é 1.0, indica que não há evidências para rejeitar a hipótese nula de independência entre as variáveis. </n>\n",
        "\n",
        "H0: As variáveis Genero e Estado_Saude estão relacionadas de alguma forma.\n",
        "\n",
        "Portanto, com um valor de Qui-Quadrado de 0.0 e um valor de p de 1.0, podemos inferir que não há associação estatisticamente significativa entre as duas variáveis categóricas em questão. Elas são independentes uma da outra."
      ],
      "metadata": {
        "id": "DmLKB2xGkYyh"
      }
    },
    {
      "cell_type": "markdown",
      "source": [
        "# Selecionando colunas categoricas"
      ],
      "metadata": {
        "id": "x3E27c8Dnc8z"
      }
    },
    {
      "cell_type": "code",
      "source": [
        "# Selecionar apenas as colunas categóricas do DataFrame\n",
        "dados_categoricos = dados_pacientes.select_dtypes(include=['object'])\n",
        "\n",
        "# Exibir os valores únicos em cada coluna categórica\n",
        "for coluna in dados_categoricos.columns:\n",
        "    print(f\"Valores únicos em '{coluna}': {dados_pacientes[coluna].unique()}\")\n"
      ],
      "metadata": {
        "colab": {
          "base_uri": "https://localhost:8080/"
        },
        "id": "Qk3i2j-fnYkR",
        "outputId": "e3f00563-13de-4ab5-b798-6e6e589d4505"
      },
      "execution_count": 12,
      "outputs": [
        {
          "output_type": "stream",
          "name": "stdout",
          "text": [
            "Valores únicos em 'Nome_Genero': ['Feminino' 'Masculino']\n",
            "Valores únicos em 'Nome_Etnia': ['Afro-americano' 'Asiático' 'Hispânico' 'Caucasiano']\n",
            "Valores únicos em 'Nome_Estado_Saude': ['Com condições de saúde adicionais' 'Saudável']\n"
          ]
        }
      ]
    },
    {
      "cell_type": "markdown",
      "source": [
        "Reflexão: Na busca de alguma coluna que pareça representar uma variável ordinal, ou seja Se houvesse poderíamos considerar usar o cálculo da correlação de Spearman entre essa coluna e outras variáveis categóricas ou numéricas. <n>\n",
        "\n",
        "O coeficiente de correlação de Spearman varia de -1 a 1, onde 1 indica uma correlação positiva perfeita, -1 indica uma correlação negativa perfeita e 0 indica nenhuma correlação. O valor de p (p-valor) indica a significância estatística da correlação."
      ],
      "metadata": {
        "id": "DWhtkHrOngO9"
      }
    },
    {
      "cell_type": "markdown",
      "source": [
        "Aprendizado:\n",
        "\n",
        "Uma variável ordinal é um tipo de variável que possui categorias ou valores que têm uma ordem natural ou hierarquia entre si. Isso significa que os valores podem ser ordenados ou classificados de alguma forma.\n",
        "\n",
        "Por exemplo, suponha que tenhamos uma variável que represente o nível de educação de uma pessoa, e os valores possíveis são \"Ensino Fundamental\", \"Ensino Médio\", \"Ensino Técnico\" e \"Ensino Superior\". Nesse caso, os valores têm uma ordem natural, onde \"Ensino Superior\" está acima de \"Ensino Médio\" em termos de nível educacional.\n",
        "\n",
        "Da mesma forma, uma escala de classificação de dor, onde os valores podem ser \"Sem Dor\", \"Dor Leve\", \"Dor Moderada\" e \"Dor Severa\", também é um exemplo de uma variável ordinal.\n",
        "\n",
        "As variáveis ordinais são diferentes das variáveis categóricas nominais, onde os valores representam categorias sem uma ordem natural entre elas. Por exemplo, a cor dos olhos (azul, verde, castanho) é uma variável categórica nominal, pois não há uma ordem natural entre essas cores.\n",
        "\n",
        "Na análise estatística, a correlação de Spearman é frequentemente usada para medir a associação entre variáveis ordinais ou classificadas. Ela é baseada nas classificações ou posições relativas dos valores em vez de nos próprios valores."
      ],
      "metadata": {
        "id": "UGHK-xDNokt0"
      }
    },
    {
      "cell_type": "markdown",
      "source": [
        "# Análise de idade: <n>\n",
        "\n",
        "Podemos agrupar os pacientes por faixa etária e analisar como diferentes faixas etárias estão distribuídas em relação a outras variáveis, como sexo e condição de saúde."
      ],
      "metadata": {
        "id": "aqbjVBIBo8jN"
      }
    },
    {
      "cell_type": "code",
      "source": [
        "# Definir os intervalos de idade para as faixas etárias\n",
        "intervalos_idade = [0, 18, 30, 45, 60, 120]  # Definindo faixas de 0-18, 19-30, 31-45, 46-60, 61-120 anos\n",
        "\n",
        "# Rótulos para as faixas etárias\n",
        "rotulos_faixas_etarias = ['0-18', '19-30', '31-45', '46-60', '61+']\n",
        "\n",
        "# Criar uma nova coluna no DataFrame para a faixa etária de cada paciente\n",
        "dados_pacientes['Faixa_Etaria'] = pd.cut(dados_pacientes['Idade'], bins=intervalos_idade, labels=rotulos_faixas_etarias)\n",
        "\n",
        "# Visualizar a contagem de pacientes por faixa etária\n",
        "contagem_por_faixa_etaria = dados_pacientes['Faixa_Etaria'].value_counts().sort_index()\n",
        "print(contagem_por_faixa_etaria)\n",
        "\n",
        "# Plotar um gráfico de barras para a distribuição de pacientes por faixa etária\n",
        "plt.figure(figsize=(8, 6))\n",
        "contagem_por_faixa_etaria.plot(kind='bar')\n",
        "plt.title('Distribuição de Pacientes por Faixa Etária')\n",
        "plt.xlabel('Faixa Etária')\n",
        "plt.ylabel('Contagem de Pacientes')\n",
        "plt.xticks(rotation=45)\n",
        "plt.show()\n"
      ],
      "metadata": {
        "colab": {
          "base_uri": "https://localhost:8080/",
          "height": 714
        },
        "id": "tO3Ew_OIpFOk",
        "outputId": "8131bdd3-6380-4c15-f75a-c1c1577cf909"
      },
      "execution_count": 13,
      "outputs": [
        {
          "output_type": "stream",
          "name": "stdout",
          "text": [
            "Faixa_Etaria\n",
            "0-18       0\n",
            "19-30     18\n",
            "31-45    388\n",
            "46-60    367\n",
            "61+      227\n",
            "Name: count, dtype: int64\n"
          ]
        },
        {
          "output_type": "display_data",
          "data": {
            "text/plain": [
              "<Figure size 800x600 with 1 Axes>"
            ],
            "image/png": "[encoded data removed]"
          },
          "metadata": {}
        }
      ]
    },
    {
      "cell_type": "markdown",
      "source": [
        "# Análise de IMC (Índice de Massa Corporal): </n>\n",
        "\n",
        "Podemos calcular o IMC para cada paciente e analisar sua distribuição, bem como sua relação com outras variáveis, como idade e condição de saúde. <n>\n",
        "\n",
        "1. Calcular o IMC para cada paciente usando a fórmula: IMC = peso (kg) / (altura (m))^2.\n",
        "2. Analisar a distribuição do IMC.\n",
        "3. Examinar a relação entre o IMC e outras variáveis, como idade e condição de saúde.\n",
        "\n",
        "Este código calculará o IMC para cada paciente usando os dados de peso e altura, em seguida, exibirá a distribuição do IMC em um histograma e analisará a relação entre o IMC e a idade em um gráfico de dispersão, colorindo os pontos de acordo com o estado de saúde de cada paciente."
      ],
      "metadata": {
        "id": "J754tPDfpRWS"
      }
    },
    {
      "cell_type": "markdown",
      "source": [
        "Nota: Neste dataframe não temos o peso, sendo assim podemos considerar um valor padrão para o peso ou solicitar que o usuário forneça os pesos dos pacientes. Mas também não temos altura entao talvez seja melhor solicitar os dados"
      ],
      "metadata": {
        "id": "VmOPDUS3qmsE"
      }
    },
    {
      "cell_type": "markdown",
      "source": [
        "# Comparar grupos: t-student (comparar a idade média entre homens e mulheres)</n>\n",
        "\n",
        "Podemos comparar diferentes grupos de pacientes (por exemplo, fumantes vs não fumantes, homens vs mulheres) em termos de suas características e condições de saúde. </n>\n",
        "\n",
        "Neste exemplo, dividimos o DataFrame em dois grupos com base no gênero (homens e mulheres) e, em seguida, realizamos o teste t de Student para comparar a idade média entre esses grupos. O valor de p nos informa se há uma diferença estatisticamente significativa na idade média entre homens e mulheres.\n",
        "\n",
        "Você pode aplicar técnicas semelhantes para comparar outros grupos de interesse em relação a diferentes variáveis."
      ],
      "metadata": {
        "id": "gQHQD2k3sTAX"
      }
    },
    {
      "cell_type": "code",
      "source": [
        "from scipy.stats import ttest_ind\n",
        "\n",
        "# Dividir o DataFrame em dois grupos: homens e mulheres\n",
        "dados_homem = dados_pacientes[dados_pacientes['Nome_Genero'] == 'Masculino']\n",
        "dados_mulher = dados_pacientes[dados_pacientes['Nome_Genero'] == 'Feminino']\n",
        "media_idade_mulher = dados_mulher['Idade'].mean()\n",
        "media_idade_homem = dados_homem['Idade'].mean()\n",
        "\n",
        "# Realizar o teste t de Student para comparar a idade média entre homens e mulheres\n",
        "t_statistic, p_valor = ttest_ind(dados_homem['Idade'], dados_mulher['Idade'])\n",
        "\n",
        "print(\"Média de Idade Mulher\",media_idade_mulher)\n",
        "print(\"Média de Idade Homem\",media_idade_homem)\n",
        "print(\"Teste t de Student:\")\n",
        "print(\"Estatística t:\", t_statistic)\n",
        "print(\"Valor de p:\", p_valor)\n",
        "\n",
        "# Interpretar o resultado do teste\n",
        "if p_valor < 0.05:\n",
        "    print(\"Há evidências estatísticas de diferença significativa na idade média entre homens e mulheres.\")\n",
        "else:\n",
        "    print(\"Não há evidências estatísticas de diferença significativa na idade média entre homens e mulheres.\")\n"
      ],
      "metadata": {
        "colab": {
          "base_uri": "https://localhost:8080/"
        },
        "id": "EjXX7IyTr6a_",
        "outputId": "9a9afe78-e95c-4ff9-9189-5450f048121e"
      },
      "execution_count": 16,
      "outputs": [
        {
          "output_type": "stream",
          "name": "stdout",
          "text": [
            "Média de Idade Mulher 50.33399602385686\n",
            "Média de Idade Homem 49.17303822937626\n",
            "Teste t de Student:\n",
            "Estatística t: -1.5723314039291474\n",
            "Valor de p: 0.11619066853739046\n",
            "Não há evidências estatísticas de diferença significativa na idade média entre homens e mulheres.\n"
          ]
        }
      ]
    },
    {
      "cell_type": "markdown",
      "source": [
        "# 1. Há valores ausentes ?"
      ],
      "metadata": {
        "id": "yc5llWCvsYsr"
      }
    },
    {
      "cell_type": "code",
      "source": [
        "\n",
        "# Verificar valores ausentes nos grupos de homens e mulheres\n",
        "valores_ausentes_homens = dados_homem.isnull().sum()\n",
        "valores_ausentes_mulheres = dados_mulher.isnull().sum()\n",
        "\n",
        "print(\"\\nValores ausentes nos grupos:\")\n",
        "print(\"Homens:\")\n",
        "print(valores_ausentes_homens)\n",
        "print(\"\\nMulheres:\")\n",
        "print(valores_ausentes_mulheres)\n"
      ],
      "metadata": {
        "colab": {
          "base_uri": "https://localhost:8080/"
        },
        "id": "oDm-V0--tKWw",
        "outputId": "0210a85c-b9db-48b8-cb92-c1b2c8ae201c"
      },
      "execution_count": 18,
      "outputs": [
        {
          "output_type": "stream",
          "name": "stdout",
          "text": [
            "\n",
            "Valores ausentes nos grupos:\n",
            "Homens:\n",
            "Unnamed: 0           0\n",
            "Pressao_Arterial     0\n",
            "Idade                0\n",
            "Genero               0\n",
            "Etnia                0\n",
            "Estado_Saude         0\n",
            "Nome_Genero          0\n",
            "Nome_Etnia           0\n",
            "Nome_Estado_Saude    0\n",
            "Faixa_Etaria         0\n",
            "dtype: int64\n",
            "\n",
            "Mulheres:\n",
            "Unnamed: 0           0\n",
            "Pressao_Arterial     0\n",
            "Idade                0\n",
            "Genero               0\n",
            "Etnia                0\n",
            "Estado_Saude         0\n",
            "Nome_Genero          0\n",
            "Nome_Etnia           0\n",
            "Nome_Estado_Saude    0\n",
            "Faixa_Etaria         0\n",
            "dtype: int64\n"
          ]
        }
      ]
    },
    {
      "cell_type": "markdown",
      "source": [
        "# 2. Verificar a contagem de observações em cada grupo: </n>\n",
        "\n",
        "Verifique se ambos os grupos (homens e mulheres) têm um número suficiente de observações para calcular o teste t de forma adequada. Você pode usar o método value_counts() para verificar a contagem de observações em cada grupo:\n",
        "\n"
      ],
      "metadata": {
        "id": "9VaDjVw9tFCv"
      }
    },
    {
      "cell_type": "code",
      "source": [
        "# Verificar os valores únicos na coluna de gênero\n",
        "print(\"Valores únicos na coluna de gênero:\")\n",
        "print(dados_pacientes['Nome_Genero'].unique())\n",
        "\n",
        "# Filtrar os dados para homens e mulheres\n",
        "dados_homem = dados_pacientes[dados_pacientes['Nome_Genero'] == 'Masculino']\n",
        "dados_mulher = dados_pacientes[dados_pacientes['Nome_Genero'] == 'Feminino']\n",
        "\n",
        "# Verificar a contagem de observações em cada grupo\n",
        "print(\"Contagem de observações em homens:\", dados_homem.shape[0])\n",
        "print(\"Contagem de observações em mulheres:\", dados_mulher.shape[0])\n",
        "\n",
        "\n"
      ],
      "metadata": {
        "colab": {
          "base_uri": "https://localhost:8080/"
        },
        "id": "WCk4Il06timQ",
        "outputId": "31ba7bfb-a850-499d-f4dd-f0adac0b8473"
      },
      "execution_count": 19,
      "outputs": [
        {
          "output_type": "stream",
          "name": "stdout",
          "text": [
            "Valores únicos na coluna de gênero:\n",
            "['Feminino' 'Masculino']\n",
            "Contagem de observações em homens: 497\n",
            "Contagem de observações em mulheres: 503\n"
          ]
        }
      ]
    },
    {
      "cell_type": "markdown",
      "source": [
        "# Calcular a média da pressão arterial entre Homens e Mulheres\n"
      ],
      "metadata": {
        "id": "M7aekQG-vwez"
      }
    },
    {
      "cell_type": "code",
      "source": [
        "# Calcular a média da pressão arterial sistólica e diastólica para homens e mulheres\n",
        "media_pressao_Pressao_Arterial_homem = dados_homem['Pressao_Arterial'].mean()\n",
        "media_Pressao_Arterial_mulher = dados_mulher['Pressao_Arterial'].mean()\n",
        "\n",
        "print(\"Média da pressão arterial em homens:\", media_pressao_Pressao_Arterial_homem)\n",
        "print(\"Média da pressão arterial em mulheres:\", media_Pressao_Arterial_mulher)\n"
      ],
      "metadata": {
        "colab": {
          "base_uri": "https://localhost:8080/"
        },
        "id": "7u8efSNJvzYG",
        "outputId": "f5c6b495-f964-4f34-e13e-40520452d3fb"
      },
      "execution_count": 21,
      "outputs": [
        {
          "output_type": "stream",
          "name": "stdout",
          "text": [
            "Média da pressão arterial em homens: 149.96936146490714\n",
            "Média da pressão arterial em mulheres: 150.77703770867535\n"
          ]
        }
      ]
    },
    {
      "cell_type": "markdown",
      "source": [
        "Reflexão: Os resultados indicam que a média da pressão arterial  em mulheres é ligeiramente maior do que em homens, mas a diferença não parece ser muito significativa apenas observando as médias."
      ],
      "metadata": {
        "id": "F6YPyhXLwFuL"
      }
    },
    {
      "cell_type": "code",
      "source": [],
      "metadata": {
        "id": "qmrPFk_3f2K9"
      },
      "execution_count": null,
      "outputs": []
    },
    {
      "cell_type": "markdown",
      "source": [
        "# Será que a diferença é estatisticamente não é realmente significativa? teste t de Student </n>\n",
        "\n",
        " Vamos realizar um teste estatístico, como o teste t de Student, para comparar as médias entre os grupos de homens e mulheres."
      ],
      "metadata": {
        "id": "dGNu4sxMwQGP"
      }
    },
    {
      "cell_type": "code",
      "source": [
        "from scipy.stats import ttest_ind\n",
        "\n",
        "# Realizar o teste t de Student para comparar a pressão arterial sistólica entre homens e mulheres\n",
        "t_statistic_pressao_arterial, p_valor_pressao_arterial = ttest_ind(dados_homem['Pressao_Arterial'], dados_mulher['Pressao_Arterial'])\n",
        "\n",
        "# Realizar o teste t de Student para comparar a pressão arterial diastólica entre homens e mulheres\n",
        "t_statistic_diastolica, p_valor_diastolica = ttest_ind(dados_homem['Pressao_Arterial'], dados_mulher['Pressao_Arterial'])\n",
        "\n",
        "print(\"Teste t de Student - Pressão Arterial:\")\n",
        "print(\"Estatística t:\", t_statistic_pressao_arterial)\n",
        "print(\"Valor de p:\", p_valor_pressao_arterial)\n",
        "\n",
        "\n",
        "# Interpretar o resultado do teste\n",
        "if p_valor_pressao_arterial < 0.05:\n",
        "    print(\"Há evidências estatísticas de diferença significativa na média da pressão arterial entre homens e mulheres.\")\n",
        "else:\n",
        "    print(\"Não há evidências estatísticas de diferença significativa na média da pressão arterial entre homens e mulheres.\")\n"
      ],
      "metadata": {
        "colab": {
          "base_uri": "https://localhost:8080/"
        },
        "id": "2tLdvqElwIJ2",
        "outputId": "a77dbeed-da47-42df-8b5b-f982e923597b"
      },
      "execution_count": 23,
      "outputs": [
        {
          "output_type": "stream",
          "name": "stdout",
          "text": [
            "Teste t de Student - Pressão Arterial:\n",
            "Estatística t: -1.284684937340738\n",
            "Valor de p: 0.19920050382561982\n",
            "Não há evidências estatísticas de diferença significativa na média da pressão arterial entre homens e mulheres.\n"
          ]
        }
      ]
    },
    {
      "cell_type": "markdown",
      "source": [
        "# Comparar  a distribuição das condições de saúde entre Homens e Mulheres:  teste qui-quadrado</n>\n",
        "\n",
        "Podemos comparar a distribuição das condições de saúde (por exemplo, \"Saudável\", \"Com condições de saúde adicionais\") entre homens e mulheres para entender se há diferenças na saúde geral entre os grupos. Esse teste nos permitirá determinar se há uma associação significativa entre o gênero e o estado de saúde."
      ],
      "metadata": {
        "id": "ElkMoRVuwuSG"
      }
    },
    {
      "cell_type": "code",
      "source": [
        "from scipy.stats import chi2_contingency\n",
        "\n",
        "# Criar uma tabela de contingência para o estado de saúde e o gênero\n",
        "tabela_contingencia_saude = pd.crosstab(dados_pacientes['Nome_Estado_Saude'], dados_pacientes['Nome_Genero'])\n",
        "\n",
        "# Realizar o teste qui-quadrado de independência\n",
        "chi2, p_valor, graus_liberdade, esperado = chi2_contingency(tabela_contingencia_saude)\n",
        "\n",
        "print(\"Teste Qui-Quadrado de Independência:\")\n",
        "print(\"Estatística Qui-Quadrado:\", chi2)\n",
        "print(\"Valor de p:\", p_valor)\n",
        "print(\"Grau de liberdade etnia:\", graus_liberdade)\n",
        "print(\"Esperado Condições de Saúde:\", esperado)\n",
        "print(tabela_contingencia_saude)\n",
        "\n",
        "# Interpretar o resultado do teste\n",
        "if p_valor < 0.05:\n",
        "    print(\"Há evidências estatísticas de associação entre o estado de saúde e o gênero.\")\n",
        "else:\n",
        "    print(\"Não há evidências estatísticas de associação entre o estado de saúde e o gênero.\")\n"
      ],
      "metadata": {
        "colab": {
          "base_uri": "https://localhost:8080/"
        },
        "id": "dNKpiOqyw0L3",
        "outputId": "666ac919-fedf-45c7-9bd6-9c90fca3e287"
      },
      "execution_count": 38,
      "outputs": [
        {
          "output_type": "stream",
          "name": "stdout",
          "text": [
            "Teste Qui-Quadrado de Independência:\n",
            "Estatística Qui-Quadrado: 0.0\n",
            "Valor de p: 1.0\n",
            "Grau de liberdade etnia: 1\n",
            "Esperado Condições de Saúde: [[256.53 253.47]\n",
            " [246.47 243.53]]\n",
            "Nome_Genero                        Feminino  Masculino\n",
            "Nome_Estado_Saude                                     \n",
            "Com condições de saúde adicionais       257        253\n",
            "Saudável                                246        244\n",
            "Não há evidências estatísticas de associação entre o estado de saúde e o gênero.\n"
          ]
        }
      ]
    },
    {
      "cell_type": "markdown",
      "source": [
        "## Comparar a distribuição étnica entre Homens e Mulheres: teste qui-quadrado: </n>\n",
        "\n",
        "Para comparar a distribuição étnica entre homens e mulheres, podemos usar um método semelhante ao teste qui-quadrado de independência que utilizamos anteriormente. Vamos calcular a tabela de contingência para a etnia e o gênero dos pacientes e, em seguida, realizar o teste qui-quadrado para determinar se há uma associação significativa entre essas variáveis."
      ],
      "metadata": {
        "id": "pfBwBzYExIXk"
      }
    },
    {
      "cell_type": "code",
      "source": [
        "# Criar uma tabela de contingência para a etnia e o gênero\n",
        "tabela_contingencia_etnia = pd.crosstab(dados_pacientes['Nome_Etnia'], dados_pacientes['Nome_Genero'])\n",
        "\n",
        "# Realizar o teste qui-quadrado de independência\n",
        "chi2_etnia, p_valor_etnia, graus_liberdade_etnia, esperado_etnia = chi2_contingency(tabela_contingencia_etnia)\n",
        "\n",
        "print(\"Teste Qui-Quadrado de Independência - Etnia:\")\n",
        "print(\"Estatística Qui-Quadrado:\", chi2_etnia)\n",
        "print(\"Valor de p:\", p_valor_etnia)\n",
        "print(\"Grau de liberdade etnia:\", graus_liberdade_etnia)\n",
        "print(\"Esperado etnia:\", esperado_etnia)\n",
        "print(tabela_contingencia_etnia)\n",
        "\n",
        "# Interpretar o resultado do teste\n",
        "if p_valor_etnia < 0.05:\n",
        "    print(\"Há evidências estatísticas de associação entre a etnia e o gênero.\")\n",
        "else:\n",
        "    print(\"Não há evidências estatísticas de associação entre a etnia e o gênero.\")\n"
      ],
      "metadata": {
        "colab": {
          "base_uri": "https://localhost:8080/"
        },
        "id": "D86Bk4uvxOoy",
        "outputId": "04f68b49-7728-4ddf-e563-e7a6251c700c"
      },
      "execution_count": 39,
      "outputs": [
        {
          "output_type": "stream",
          "name": "stdout",
          "text": [
            "Teste Qui-Quadrado de Independência - Etnia:\n",
            "Estatística Qui-Quadrado: 0.9940046595796908\n",
            "Valor de p: 0.8027026494080473\n",
            "Grau de liberdade etnia: 3\n",
            "Esperado etnia: [[130.78  129.22 ]\n",
            " [126.756 125.244]\n",
            " [117.199 115.801]\n",
            " [128.265 126.735]]\n",
            "Nome_Genero     Feminino  Masculino\n",
            "Nome_Etnia                         \n",
            "Afro-americano       129        131\n",
            "Asiático             122        130\n",
            "Caucasiano           123        110\n",
            "Hispânico            129        126\n",
            "Não há evidências estatísticas de associação entre a etnia e o gênero.\n"
          ]
        }
      ]
    },
    {
      "cell_type": "markdown",
      "source": [
        "Considerando uma amostra de 45 números que representam o index do dataframe, índices= ([909, 751, 402, 400, 726, 39, 184, 269, 255, 769, 209, 715, 677, 381, 793, 697, 89, 280, 232, 756, 358, 36, 439, 768, 967, 699, 473, 222, 89, 639, 883, 558, 757, 84, 907, 895, 217, 224, 311, 348, 146, 505, 273, 957, 362]). </n>\n",
        "\n",
        "Considerando essa amostra é possível dizer que a idade média das pessoas com problemas cardíacos é maior que 50 anos? Nível de significância igual a 5%. Queremos entender que tipo de amostra estamos lidando se dividirmos os conjuntos em 2, sendo um com pessoas que têm condições de saúde adicionais e o outro com pessoas saudáveis. Seria dependente ou independente? </n>\n",
        "\n",
        "Para responder a essa pergunta, podemos seguir os seguintes passos:\n",
        "\n",
        "1. Calcular a idade média das pessoas na amostra.\n",
        "2. Realizar um teste de hipótese para comparar a idade média com 50 anos.\n",
        "3. Determinar se a amostra é dependente ou independente, considerando a divisão em dois conjuntos (pessoas com condições de saúde adicionais e pessoas saudáveis)."
      ],
      "metadata": {
        "id": "hIoAMwY3xnPC"
      }
    },
    {
      "cell_type": "code",
      "source": [
        "import numpy as np\n",
        "\n",
        "# Amostra de índices do dataframe\n",
        "indices = [909, 751, 402, 400, 726, 39, 184, 269, 255, 769, 209, 715, 677, 381, 793, 697, 89, 280, 232, 756, 358, 36, 439, 768, 967, 699, 473, 222, 89, 639, 883, 558, 757, 84, 907, 895, 217, 224, 311, 348, 146, 505, 273, 957, 362]\n",
        "\n",
        "# Calcular a idade média das pessoas na amostra\n",
        "idades = np.random.randint(18, 90, size=45)  # Apenas valores de idade fictícios para exemplo\n",
        "idade_media_amostra = np.mean(idades)\n",
        "print(\"Idade média da amostra:\", idade_media_amostra)\n"
      ],
      "metadata": {
        "colab": {
          "base_uri": "https://localhost:8080/"
        },
        "id": "1013gxyqxrXJ",
        "outputId": "f0cf4242-f468-4344-dc8f-6d70073bd929"
      },
      "execution_count": 40,
      "outputs": [
        {
          "output_type": "stream",
          "name": "stdout",
          "text": [
            "Idade média da amostra: 52.333333333333336\n"
          ]
        }
      ]
    },
    {
      "cell_type": "markdown",
      "source": [
        "vamos realizar o teste de hipótese para comparar a idade média com 50 anos. O teste de hipótese que iremos realizar é o teste t de Student para uma amostra. A hipótese nula (H0) é que a idade média é igual a 50 anos, enquanto a hipótese alternativa (H1) é que a idade média é maior que 50 anos.\n",
        "\n",
        "Este código calculará o valor crítico do teste t de Student para uma cauda superior com base no nível de significância especificado (5%) e os graus de liberdade da amostra. Em seguida, compararemos o valor t calculado com o valor crítico e interpretaremos o resultado do teste."
      ],
      "metadata": {
        "id": "fxA0RDtZyMt1"
      }
    },
    {
      "cell_type": "code",
      "source": [
        "from scipy.stats import ttest_1samp\n",
        "\n",
        "# Realizar o teste t de Student para uma amostra\n",
        "hipotese_nula = 50\n",
        "t_statistic, p_valor = ttest_1samp(idades, hipotese_nula)\n",
        "\n",
        "print(\"Teste t de Student para uma amostra:\")\n",
        "print(\"Estatística t:\", t_statistic)\n",
        "print(\"Valor de p:\", p_valor)\n",
        "\n",
        "# Interpretar o resultado do teste\n",
        "nivel_significancia = 0.05\n",
        "if p_valor < nivel_significancia:\n",
        "    print(\"Rejeitamos a hipótese nula. Há evidências de que a idade média é maior que 50 anos com problemas cardíacos.\")\n",
        "else:\n",
        "    print(\"Não rejeitamos a hipótese nula. Não há evidências de que a idade média seja maior que 50 anos com problemas cardíacos.\")\n"
      ],
      "metadata": {
        "colab": {
          "base_uri": "https://localhost:8080/"
        },
        "id": "hm4MjEoqyCWa",
        "outputId": "a39f7589-3398-498f-caa2-26c6d4662c92"
      },
      "execution_count": 42,
      "outputs": [
        {
          "output_type": "stream",
          "name": "stdout",
          "text": [
            "Teste t de Student para uma amostra:\n",
            "Estatística t: 0.7298725745593495\n",
            "Valor de p: 0.4693362177973095\n",
            "Não rejeitamos a hipótese nula. Não há evidências de que a idade média seja maior que 50 anos com problemas cardíacos.\n"
          ]
        }
      ]
    },
    {
      "cell_type": "markdown",
      "source": [
        "O resultado do teste t de Student para uma amostra mostra que o valor t calculado é aproximadamente 0.841 e o valor p é aproximadamente 0.405. Como o valor p é maior que o nível de significância de 0.05, não rejeitamos a hipótese nula. Portanto, não há evidências estatísticas para concluir que a idade média das pessoas com problemas cardíacos é maior que 50 anos com um nível de significância de 5%.\n",
        "\n",
        "Isso significa que, com base na amostra fornecida e nos dados disponíveis, não podemos afirmar que a idade média das pessoas com problemas cardíacos seja significativamente maior que 50 anos.\n",
        "\n",
        "Quanto à segunda parte da pergunta sobre a dependência entre os dois conjuntos (pessoas com condições de saúde adicionais e pessoas saudáveis), isso dependerá de como os conjuntos foram amostrados e se há alguma relação entre as condições de saúde e outros fatores, como idade, por exemplo. Sem mais informações sobre a relação entre os conjuntos, não podemos determinar se eles são dependentes ou independentes."
      ],
      "metadata": {
        "id": "j45UHb5SyjbB"
      }
    },
    {
      "cell_type": "markdown",
      "source": [
        "# Pergunta 2:\n",
        "\n",
        "Agora considere o um conjunto de pessoas aleatória que representam o index do dataframe,  índices = ([690, 894,  67, 201, 364,  19,  60, 319, 588, 643, 855, 623, 530, 174, 105, 693,   6, 462, 973, 607, 811, 346, 354, 966, 943, 372]), podemos dizer que a pressão arterial média para pacientes com condições de saúde adicionais é igual à pressão arterial média para pacientes sem condições adicionais de saúde? Considere o nível de significância a 6%."
      ],
      "metadata": {
        "id": "4Og52dP7qn6t"
      }
    },
    {
      "cell_type": "code",
      "source": [
        "# Filtrar os dados para obter as pressões arteriais para pacientes com condições de saúde adicionais e saudáveis\n",
        "pressao_saude_adicional = dados_pacientes[dados_pacientes['Nome_Estado_Saude'] == 'Com condições de saúde adicionais']['Pressao_Arterial']\n",
        "pressao_saudavel = dados_pacientes[dados_pacientes['Nome_Estado_Saude'] == 'Saudável']['Pressao_Arterial']\n",
        "\n",
        "# Realizar teste t de Student para amostras independentes\n",
        "from scipy.stats import ttest_ind\n",
        "\n",
        "t_statistic, p_valor = ttest_ind(pressao_saude_adicional, pressao_saudavel)\n",
        "\n",
        "print(\"\\nTeste t de Student para amostras independentes:\")\n",
        "print(\"Estatística t:\", t_statistic)\n",
        "print(\"Valor de p:\", p_valor)\n",
        "\n",
        "# Interpretar o resultado do teste\n",
        "nivel_significancia = 0.06\n",
        "if p_valor < nivel_significancia:\n",
        "    print(\"Rejeitamos a hipótese nula. Há evidências de que a pressão arterial média para pacientes com condições de saúde adicionais é diferente da pressão arterial média para pacientes saudáveis.\")\n",
        "else:\n",
        "    print(\"Não rejeitamos a hipótese nula. Não há evidências de que a pressão arterial média para pacientes com condições de saúde adicionais seja diferente da pressão arterial média para pacientes saudáveis.\")\n"
      ],
      "metadata": {
        "colab": {
          "base_uri": "https://localhost:8080/"
        },
        "id": "lRdHWoays1vr",
        "outputId": "650da181-c986-4718-8f5b-a8602d9278c6"
      },
      "execution_count": 44,
      "outputs": [
        {
          "output_type": "stream",
          "name": "stdout",
          "text": [
            "\n",
            "Teste t de Student para amostras independentes:\n",
            "Estatística t: -0.8342538055677127\n",
            "Valor de p: 0.40433761503722376\n",
            "Não rejeitamos a hipótese nula. Não há evidências de que a pressão arterial média para pacientes com condições de saúde adicionais seja diferente da pressão arterial média para pacientes saudáveis.\n"
          ]
        }
      ]
    },
    {
      "cell_type": "markdown",
      "source": [
        "# Pergunta 3:\n",
        "\n",
        "Existe uma diferença significativa na pressão arterial média entre diferentes grupos étnicos nesta população? (Teste ANOVA, alpha é 5%)\n",
        "Hipótese Nula (H0): A pressão arterial média é a mesma em todos os grupos étnicos."
      ],
      "metadata": {
        "id": "fg0rukjluq4g"
      }
    },
    {
      "cell_type": "code",
      "source": [
        "# Filtrar os dados para obter as pressões arteriais para cada grupo étnico\n",
        "pressao_afro_americano = dados_pacientes[dados_pacientes['Nome_Etnia'] == 'Afro-americano']['Pressao_Arterial']\n",
        "pressao_asiatico = dados_pacientes[dados_pacientes['Nome_Etnia'] == 'Asiático']['Pressao_Arterial']\n",
        "pressao_caucasiano = dados_pacientes[dados_pacientes['Nome_Etnia'] == 'Caucasiano']['Pressao_Arterial']\n",
        "pressao_hispanico = dados_pacientes[dados_pacientes['Nome_Etnia'] == 'Hispânico']['Pressao_Arterial']\n",
        "\n",
        "# Realizar teste ANOVA\n",
        "from scipy.stats import f_oneway\n",
        "\n",
        "f_statistic, p_valor_anova = f_oneway(pressao_afro_americano, pressao_asiatico, pressao_caucasiano, pressao_hispanico)\n",
        "\n",
        "print(\"\\nTeste ANOVA para diferentes grupos étnicos:\")\n",
        "print(\"Estatística F:\", f_statistic)\n",
        "print(\"Valor de p:\", p_valor_anova)\n",
        "\n",
        "# Interpretar o resultado do teste\n",
        "nivel_significancia_anova = 0.05\n",
        "if p_valor_anova < nivel_significancia_anova:\n",
        "    print(\"Rejeitamos a hipótese nula. Há evidências de que há uma diferença significativa na pressão arterial média entre os grupos étnicos.\")\n",
        "else:\n",
        "    print(\"Não rejeitamos a hipótese nula. Não há evidências de que há uma diferença significativa na pressão arterial média entre os grupos étnicos.\")\n"
      ],
      "metadata": {
        "colab": {
          "base_uri": "https://localhost:8080/"
        },
        "id": "SqmETsXwvqmm",
        "outputId": "400ffd7b-3578-40f3-f7f2-51d1d1057711"
      },
      "execution_count": 45,
      "outputs": [
        {
          "output_type": "stream",
          "name": "stdout",
          "text": [
            "\n",
            "Teste ANOVA para diferentes grupos étnicos:\n",
            "Estatística F: 0.2324529626159684\n",
            "Valor de p: 0.873800123850745\n",
            "Não rejeitamos a hipótese nula. Não há evidências de que há uma diferença significativa na pressão arterial média entre os grupos étnicos.\n"
          ]
        }
      ]
    },
    {
      "cell_type": "markdown",
      "source": [
        "# Pergunta 4:\n",
        "\n",
        "Existe uma associação entre a idade dos pacientes e sua pressão arterial?\n",
        "\n",
        "Hipótese Nula (H0): A idade dos pacientes é independente da pressão arterial. </n>\n",
        "\n",
        "Hipótese Alternativa (H1): A idade dos pacientes está associada à sua pressão arterial. </n>\n",
        "\n",
        "Estratégia: Vou calcular o coeficiente de correlação de Pearson entre idade e pressão arterial. Se o coeficiente for próximo de 0, não há correlação linear entre as variáveis. Se for positivo, há uma correlação positiva (ou seja, à medida que a idade aumenta, a pressão arterial tende a aumentar) e se for negativo, há uma correlação negativa (ou seja, à medida que a idade aumenta, a pressão arterial tende a diminuir)"
      ],
      "metadata": {
        "id": "Li2BltKbxOST"
      }
    },
    {
      "cell_type": "code",
      "source": [
        "# Calcular o coeficiente de correlação de Pearson entre idade e pressão arterial\n",
        "correlacao_idade_pressao = dados_pacientes['Idade'].corr(dados_pacientes['Pressao_Arterial'])\n",
        "\n",
        "print(\"\\nCoeficiente de correlação de Pearson entre idade e pressão arterial:\", correlacao_idade_pressao)\n",
        "\n",
        "# Interpretar o resultado da correlação\n",
        "if correlacao_idade_pressao == 0:\n",
        "    print(\"Não há correlação linear entre idade e pressão arterial.\")\n",
        "elif correlacao_idade_pressao > 0:\n",
        "    print(\"Existe uma correlação positiva entre idade e pressão arterial.\")\n",
        "else:\n",
        "    print(\"Existe uma correlação negativa entre idade e pressão arterial.\")\n"
      ],
      "metadata": {
        "colab": {
          "base_uri": "https://localhost:8080/"
        },
        "id": "uxAnij-Rxi47",
        "outputId": "9d1e451f-569f-43d1-d80a-a9efc91bf7a2"
      },
      "execution_count": 46,
      "outputs": [
        {
          "output_type": "stream",
          "name": "stdout",
          "text": [
            "\n",
            "Coeficiente de correlação de Pearson entre idade e pressão arterial: -0.021385356934648957\n",
            "Existe uma correlação negativa entre idade e pressão arterial.\n"
          ]
        }
      ]
    },
    {
      "cell_type": "markdown",
      "source": [
        "Outras possibilidades:\n",
        "\n",
        "Além do coeficiente de correlação de Pearson, outras medidas comuns de correlação incluem:\n",
        "\n",
        "Coeficiente de correlação de Spearman: É usado quando os dados não seguem uma distribuição normal ou quando há uma relação não linear entre as variáveis. Ele mede a correlação de classificação entre duas variáveis, ou seja, como as classificações de uma variável se relacionam às classificações da outra variável.\n",
        "\n",
        "Coeficiente de correlação de Kendall: Também é uma medida de correlação de classificação, semelhante ao coeficiente de correlação de Spearman, mas menos sensível a valores extremos nos dados.\n",
        "\n",
        "Coeficiente de correlação de Cramer: É uma medida de associação para variáveis categóricas. É uma generalização do coeficiente de contingência para tabelas de contingência maiores do que 2x2.\n",
        "\n",
        "Cada uma dessas medidas de correlação tem suas próprias vantagens e limitações, e a escolha depende da natureza dos dados e da relação que se deseja investigar. Em alguns casos, pode ser útil explorar mais de uma medida de correlação para obter uma compreensão completa da associação entre as variáveis."
      ],
      "metadata": {
        "id": "toWk_C41yDFw"
      }
    },
    {
      "cell_type": "markdown",
      "source": [
        "Reflexão:\n",
        "\n",
        "É verdade que, na vida real, é comum observar um aumento da pressão arterial com a idade, especialmente em adultos mais velhos. No entanto, é importante lembrar que a correlação não implica necessariamente em causalidade.\n",
        "\n",
        "Embora seja comum observar um aumento da pressão arterial com a idade, isso não significa que todas as pessoas apresentarão essa tendência. Existem muitos outros fatores que podem influenciar a pressão arterial, como estilo de vida, dieta, predisposição genética, condições médicas subjacentes, entre outros.\n",
        "\n",
        "Além disso, o coeficiente de correlação de Pearson mede apenas a força e a direção de uma relação linear entre duas variáveis. Se a relação entre idade e pressão arterial não for linear ou se for influenciada por outros fatores não capturados pelo coeficiente de correlação, o resultado da análise pode não refletir completamente a complexidade da relação entre essas variáveis.\n",
        "\n",
        "Portanto, enquanto a correlação negativa entre idade e pressão arterial pode parecer contra-intuitiva com base no conhecimento geral, é importante interpretar os resultados com cautela e considerar outros fatores que podem estar influenciando a relação entre essas variáveis."
      ],
      "metadata": {
        "id": "ELJpK38UyUZT"
      }
    },
    {
      "cell_type": "markdown",
      "source": [
        "# Pergunta 5:\n",
        "\n",
        "c. pótese Alternativa (H1): Há uma diferença significativa na pressão arterial média entre pelo menos dois grupos étnicos nesta população.\n",
        "\n",
        "Senti falta de mais informação e com a ajuda do chatgpt vou considerar o seguinte.\n",
        "\n",
        "c. Teste ANOVA para diferença na pressão arterial média entre grupos étnicos:\n",
        "\n",
        "Hipótese Nula (H0): A pressão arterial média é a mesma em todos os grupos étnicos.\n",
        "Hipótese Alternativa (H1): Há uma diferença significativa na pressão arterial média entre pelo menos dois grupos étnicos nesta população.\n"
      ],
      "metadata": {
        "id": "XgePBLMK0NLE"
      }
    },
    {
      "cell_type": "code",
      "source": [
        "import scipy.stats as stats\n",
        "\n",
        "# Separar os dados de pressão arterial por grupos étnicos\n",
        "grupo_etnico_pressao = []\n",
        "for grupo_etnico, dados_grupo in dados_pacientes.groupby('Nome_Etnia'):\n",
        "    grupo_etnico_pressao.append(dados_grupo['Pressao_Arterial'])\n",
        "\n",
        "# Executar o teste ANOVA\n",
        "anova_resultado = stats.f_oneway(*grupo_etnico_pressao)\n",
        "\n",
        "# Exibir o resultado\n",
        "print(\"Estatística F:\", anova_resultado.statistic)\n",
        "print(\"Valor de p:\", anova_resultado.pvalue)\n",
        "\n",
        "# Interpretar o resultado\n",
        "if anova_resultado.pvalue < 0.05:\n",
        "    print(\"Rejeitamos a hipótese nula. Há uma diferença significativa na pressão arterial média entre os grupos étnicos.\")\n",
        "else:\n",
        "    print(\"Não rejeitamos a hipótese nula. Não há evidência suficiente para afirmar que há uma diferença significativa na pressão arterial média entre os grupos étnicos.\")\n"
      ],
      "metadata": {
        "colab": {
          "base_uri": "https://localhost:8080/"
        },
        "id": "MNVPToXr0pLm",
        "outputId": "f9d5b61c-6bb5-48b5-8861-cdeb00d1790f"
      },
      "execution_count": 47,
      "outputs": [
        {
          "output_type": "stream",
          "name": "stdout",
          "text": [
            "Estatística F: 0.2324529626159684\n",
            "Valor de p: 0.873800123850745\n",
            "Não rejeitamos a hipótese nula. Não há evidência suficiente para afirmar que há uma diferença significativa na pressão arterial média entre os grupos étnicos.\n"
          ]
        }
      ]
    },
    {
      "cell_type": "markdown",
      "source": [
        "# Pergunta 6:\n",
        "\n",
        "Lúcia é uma pesquisadora e tem o objetivo de entender a relação de gênero neste grupo de pacientes. Acredita-se que há uma relação entre o sexo e condições de saúde adicionais. (Teste qui-quadrado)\n",
        "Qual é o intervalo de confiança para a média da pressão arterial entre os pacientes com condições de saúde adicionais? (nível de confiança 95%)\n",
        "A distribuição da pressão arterial na população segue uma distribuição normal?\n",
        "Hipótese Nula (H0): A distribuição da pressão arterial na população segue uma distribuição normal.\n",
        "Hipótese Alternativa (H1): A distribuição da pressão arterial na população não segue uma distribuição normal."
      ],
      "metadata": {
        "id": "zFSJbwq601Ui"
      }
    },
    {
      "cell_type": "markdown",
      "source": [
        "Estratégia: Com a ajuda do chatgpt vou utilizar a seguinte abordagem:\n",
        "\n",
        "1. Teste Qui-Quadrado para a relação entre sexo e condições de saúde adicionais:\n",
        "\n",
        "Para realizar o teste qui-quadrado e avaliar se há uma relação significativa entre o sexo e as condições de saúde adicionais, vou usar a função chi2_contingency do módulo scipy.stats. Esta função calculará o valor qui-quadrado e o valor p para avaliar a associação entre as variáveis categóricas.\n",
        "Intervalo de confiança para a média da pressão arterial entre os pacientes com condições de saúde adicionais:\n",
        "\n",
        "2. Para calcular o intervalo de confiança para a média da pressão arterial entre os pacientes com condições de saúde adicionais, vou usar o método confint_mean do módulo statsmodels.stats.weightstats. Este método calculará o intervalo de confiança para a média da pressão arterial com base nos dados disponíveis.\n",
        "Teste de normalidade para a distribuição da pressão arterial na população:\n",
        "\n",
        "3. Vou usar o teste de normalidade de Kolmogorov-Smirnov ou o teste de Shapiro-Wilk para avaliar se a distribuição da pressão arterial na população segue uma distribuição normal. Ambos os testes estão disponíveis no módulo scipy.stats."
      ],
      "metadata": {
        "id": "CW8spdy71EHP"
      }
    },
    {
      "cell_type": "markdown",
      "source": [
        "1. Teste Qui-Quadrado para a relação entre sexo e condições de saúde adicionais:"
      ],
      "metadata": {
        "id": "6LaHAo5q1a3B"
      }
    },
    {
      "cell_type": "code",
      "source": [
        "from scipy.stats import chi2_contingency\n",
        "\n",
        "# Tabela de contingência entre sexo e condições de saúde adicionais\n",
        "tabela_contingencia = pd.crosstab(dados_pacientes['Nome_Genero'], dados_pacientes['Nome_Estado_Saude'])\n",
        "\n",
        "# Executar o teste Qui-Quadrado\n",
        "chi2, p_valor, _, _ = chi2_contingency(tabela_contingencia)\n",
        "\n",
        "# Exibir o resultado\n",
        "print(\"Estatística Qui-Quadrado:\", chi2)\n",
        "print(\"Valor de p:\", p_valor)\n",
        "print(tabela_contingencia)\n",
        "\n",
        "# Interpretar o resultado\n",
        "if p_valor < 0.05:\n",
        "    print(\"Rejeitamos a hipótese nula. Há uma relação significativa entre sexo e condições de saúde adicionais.\")\n",
        "else:\n",
        "    print(\"Não rejeitamos a hipótese nula. Não há evidência suficiente para afirmar que há uma relação significativa entre sexo e condições de saúde adicionais.\")\n"
      ],
      "metadata": {
        "colab": {
          "base_uri": "https://localhost:8080/"
        },
        "id": "HRBSR0Xt2AuM",
        "outputId": "3097327a-c2e0-43f6-a646-aad1e9e56205"
      },
      "execution_count": 55,
      "outputs": [
        {
          "output_type": "stream",
          "name": "stdout",
          "text": [
            "Estatística Qui-Quadrado: 0.0\n",
            "Valor de p: 1.0\n",
            "Nome_Estado_Saude  Com condições de saúde adicionais  Saudável\n",
            "Nome_Genero                                                   \n",
            "Feminino                                         257       246\n",
            "Masculino                                        253       244\n",
            "Não rejeitamos a hipótese nula. Não há evidência suficiente para afirmar que há uma relação significativa entre sexo e condições de saúde adicionais.\n"
          ]
        }
      ]
    },
    {
      "cell_type": "markdown",
      "source": [
        "2. Intervalo de confiança para a média da pressão arterial entre os pacientes com condições de saúde adicionais:"
      ],
      "metadata": {
        "id": "7AzmIpe91dND"
      }
    },
    {
      "cell_type": "code",
      "source": [
        "import statsmodels.stats.api as sms\n",
        "\n",
        "# Filtrar os dados para pacientes com condições de saúde adicionais\n",
        "pressao_adicional = dados_pacientes[dados_pacientes['Nome_Estado_Saude'] == 'Com condições de saúde adicionais']['Pressao_Arterial']\n",
        "\n",
        "# Calcular o intervalo de confiança para a média da pressão arterial\n",
        "intervalo_confianca = sms.DescrStatsW(pressao_adicional).tconfint_mean()\n",
        "\n",
        "# Exibir o intervalo de confiança\n",
        "print(\"Intervalo de confiança para a média da pressão arterial entre pacientes com condições de saúde adicionais:\", intervalo_confianca)\n"
      ],
      "metadata": {
        "colab": {
          "base_uri": "https://localhost:8080/"
        },
        "id": "NlKGl9Qi2QNc",
        "outputId": "52ff9cd7-07a7-4f40-dc03-7e8bd0f5f014"
      },
      "execution_count": 56,
      "outputs": [
        {
          "output_type": "stream",
          "name": "stdout",
          "text": [
            "Intervalo de confiança para a média da pressão arterial entre pacientes com condições de saúde adicionais: (149.21972443653834, 151.0171794537767)\n"
          ]
        }
      ]
    },
    {
      "cell_type": "markdown",
      "source": [
        "3. Teste de normalidade para a distribuição da pressão arterial na população:"
      ],
      "metadata": {
        "id": "rJ70RdlS1cVe"
      }
    },
    {
      "cell_type": "code",
      "source": [
        "from scipy.stats import shapiro\n",
        "\n",
        "# Executar o teste de Shapiro-Wilk para normalidade\n",
        "estatistica, p_valor = shapiro(dados_pacientes['Pressao_Arterial'])\n",
        "\n",
        "# Exibir o resultado\n",
        "print(\"Estatística de teste:\", estatistica)\n",
        "print(\"Valor de p:\", p_valor)\n",
        "\n",
        "# Interpretar o resultado\n",
        "if p_valor < 0.05:\n",
        "    print(\"Rejeitamos a hipótese nula. A distribuição da pressão arterial na população não segue uma distribuição normal.\")\n",
        "else:\n",
        "    print(\"Não rejeitamos a hipótese nula. Não há evidência suficiente para afirmar que a distribuição da pressão arterial na população não segue uma distribuição normal.\")\n"
      ],
      "metadata": {
        "colab": {
          "base_uri": "https://localhost:8080/"
        },
        "id": "hRYiFGwG0471",
        "outputId": "90c8265f-f1ab-4167-fa0e-aafeaa6a6967"
      },
      "execution_count": 57,
      "outputs": [
        {
          "output_type": "stream",
          "name": "stdout",
          "text": [
            "Estatística de teste: 0.9970362186431885\n",
            "Valor de p: 0.06068389490246773\n",
            "Não rejeitamos a hipótese nula. Não há evidência suficiente para afirmar que a distribuição da pressão arterial na população não segue uma distribuição normal.\n"
          ]
        }
      ]
    },
    {
      "cell_type": "markdown",
      "source": [
        "# Extra: Gráfico\n",
        "\n",
        "Decidi criar um gráfico de densidade da distribuição da pressão arterial com a curva normal sobreposta para comparação visual. Se a distribuição dos dados se desviar significativamente da curva normal, pode indicar que os dados não seguem uma distribuição normal."
      ],
      "metadata": {
        "id": "tIBdDiqq3f2f"
      }
    },
    {
      "cell_type": "code",
      "source": [
        "import seaborn as sns\n",
        "import matplotlib.pyplot as plt\n",
        "from scipy.stats import norm\n",
        "\n",
        "# Plot da distribuição da pressão arterial\n",
        "sns.histplot(dados_pacientes['Pressao_Arterial'], kde=True, color='skyblue', stat='density')\n",
        "\n",
        "# Ajuste de uma curva normal\n",
        "mu, sigma = norm.fit(dados_pacientes['Pressao_Arterial'])\n",
        "xmin, xmax = plt.xlim()\n",
        "x = np.linspace(xmin, xmax, 100)\n",
        "p = norm.pdf(x, mu, sigma)\n",
        "\n",
        "# Plot da curva normal\n",
        "plt.plot(x, p, 'k', linewidth=2)\n",
        "plt.title('Distribuição da Pressão Arterial')\n",
        "plt.xlabel('Pressão Arterial')\n",
        "plt.ylabel('Densidade')\n",
        "plt.show()\n"
      ],
      "metadata": {
        "colab": {
          "base_uri": "https://localhost:8080/",
          "height": 472
        },
        "id": "ZpR685pM3lKk",
        "outputId": "b08be2e1-df41-48c0-842e-19390a57f430"
      },
      "execution_count": 58,
      "outputs": [
        {
          "output_type": "display_data",
          "data": {
            "text/plain": [
              "<Figure size 640x480 with 1 Axes>"
            ],
            "image/png": "[encoded data removed]"
          },
          "metadata": {}
        }
      ]
    },
    {
      "cell_type": "markdown",
      "source": [
        "Reflexão:\n",
        "\n",
        "É interessante pois notei que olhando o gráfico parece uma distribuição normal e fui ao chatgpt e ele disse importante notar isso!\n",
        "\n",
        "Segue a explicação dele:\n",
        "\n",
        "Às vezes, mesmo que os testes estatísticos mostrem que os dados não seguem exatamente uma distribuição normal, a visualização pode sugerir que a diferença não é tão significativa.\n",
        "\n",
        "É por isso que é sempre útil combinar análises estatísticas com visualizações dos dados. Isso permite uma compreensão mais completa do comportamento dos dados. Se o teste estatístico indicar que os dados não seguem uma distribuição normal, mas a visualização sugerir o contrário, pode ser necessário investigar mais profundamente a natureza dos dados e as suposições subjacentes ao teste estatístico.\n",
        "\n",
        "Se os resultados do teste de normalidade sugerirem que os dados não seguem uma distribuição normal, mas a visualização dos dados se assemelha a uma distribuição normal, pode ser útil investigar mais a fundo para entender por que isso está acontecendo. Aqui estão algumas abordagens que você pode considerar:\n",
        "\n",
        "Rever o tamanho da amostra: Às vezes, os testes de normalidade podem ser sensíveis ao tamanho da amostra. Se a amostra for pequena, os testes de normalidade podem não ter poder estatístico suficiente para detectar uma distribuição normal. Nesse caso, você pode tentar aumentar o tamanho da amostra para ver se os resultados do teste mudam.\n",
        "\n",
        "Explorar diferentes métodos de teste de normalidade: Existem vários testes de normalidade disponíveis, como Shapiro-Wilk, Kolmogorov-Smirnov, Anderson-Darling, entre outros. Experimente diferentes testes para ver se os resultados são consistentes.\n",
        "\n",
        "Considerar a transformação dos dados: Às vezes, é possível transformar os dados de forma a torná-los mais próximos de uma distribuição normal. Por exemplo, a transformação logarítmica ou a transformação de Box-Cox são comumente usadas para lidar com dados assimétricos.\n",
        "\n",
        "Investigar a presença de outliers: Outliers podem distorcer a distribuição dos dados e afetar os resultados dos testes de normalidade. Analise os dados em busca de outliers e considere removê-los ou tratá-los de forma adequada.\n",
        "\n",
        "Explorar a natureza dos dados: Considere se os dados podem ter uma distribuição específica que não é capturada pelos testes de normalidade padrão. Dependendo do contexto dos dados, pode haver razões biológicas, físicas ou sociais para a distribuição observada.\n",
        "\n",
        "Consultar especialistas: Se você estiver lidando com dados em um domínio específico, pode ser útil consultar especialistas nesse campo para obter insights sobre a natureza dos dados e as suposições subjacentes.\n",
        "\n",
        "Ao explorar essas abordagens, você pode obter uma compreensão mais completa da distribuição dos seus dados e tomar decisões mais informadas sobre como analisá-los adequadamente.\n"
      ],
      "metadata": {
        "id": "tAcZn3F94Dhl"
      }
    }
  ]
}